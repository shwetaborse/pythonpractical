{
 "cells": [
  {
   "cell_type": "code",
   "execution_count": 1,
   "metadata": {},
   "outputs": [],
   "source": [
    "# ADDITION OF TWO NO?"
   ]
  },
  {
   "cell_type": "code",
   "execution_count": 8,
   "metadata": {},
   "outputs": [
    {
     "name": "stdout",
     "output_type": "stream",
     "text": [
      "The sum 78.4 and45.7 two numbers is 124.10000000000001\n"
     ]
    }
   ],
   "source": [
    "no1=78.4\n",
    "no2=45.7\n",
    "sum=no1+no2\n",
    "print(\"The sum {0} and{1} two numbers is {2}\".format(no1,no2,sum))"
   ]
  },
  {
   "cell_type": "code",
   "execution_count": 10,
   "metadata": {},
   "outputs": [
    {
     "name": "stdout",
     "output_type": "stream",
     "text": [
      "Enter first number:-34\n",
      "Enter second number:-45\n",
      "79.0\n"
     ]
    }
   ],
   "source": [
    "no1=input('Enter first number:-')\n",
    "no2=input('Enter second number:-')\n",
    "sum=float(no1)+float(no2)\n",
    "print(sum)"
   ]
  },
  {
   "cell_type": "code",
   "execution_count": 12,
   "metadata": {},
   "outputs": [
    {
     "name": "stdout",
     "output_type": "stream",
     "text": [
      "Enter first number:-23\n",
      "Enter second number:-4\n"
     ]
    }
   ],
   "source": [
    "no1=input('Enter first number:-')\n",
    "no2=input('Enter second number:-')\n",
    "sum=int(no1)+float(no2)\n",
    "\n"
   ]
  },
  {
   "cell_type": "code",
   "execution_count": 19,
   "metadata": {},
   "outputs": [
    {
     "name": "stdout",
     "output_type": "stream",
     "text": [
      "Enter the first number:-34\n",
      "Enter second number:56\n",
      "The sum is 90.0\n"
     ]
    }
   ],
   "source": [
    "print ('The sum is %.1f'% (float(input('Enter the first number:-'))+float(input('Enter second number:'))))"
   ]
  },
  {
   "cell_type": "code",
   "execution_count": 20,
   "metadata": {},
   "outputs": [],
   "source": [
    "#SUBSTRACTION OF TWO NUMBERS..."
   ]
  },
  {
   "cell_type": "code",
   "execution_count": 24,
   "metadata": {},
   "outputs": [
    {
     "name": "stdout",
     "output_type": "stream",
     "text": [
      "The sub -50.3 and-23 two numbers is -27.299999999999997\n"
     ]
    }
   ],
   "source": [
    "no1=-50.3\n",
    "no2=-23\n",
    "sub=no1-no2\n",
    "print(\"The sub {0} and{1} two numbers is {2}\".format(no1,no2,sub))"
   ]
  },
  {
   "cell_type": "code",
   "execution_count": 4,
   "metadata": {},
   "outputs": [
    {
     "name": "stdout",
     "output_type": "stream",
     "text": [
      "Enter first number:-23\n",
      "Enter second number:-1\n",
      "The substraction 23 and 1 is :22\n"
     ]
    }
   ],
   "source": [
    "no1=input('Enter first number:-')\n",
    "no2=input('Enter second number:-')\n",
    "substraction=int(no1)-int(no2)\n",
    "print(\"The substraction {0} and {1} is :{2}\".format(no1,no2,substraction))\n"
   ]
  },
  {
   "cell_type": "code",
   "execution_count": 7,
   "metadata": {},
   "outputs": [
    {
     "name": "stdout",
     "output_type": "stream",
     "text": [
      "Enter first number:-100\n",
      "Enter second number:-50\n",
      "Enter third number:-50\n",
      "The substraction 100 and 50 or 50 is :0\n"
     ]
    }
   ],
   "source": [
    "no1=input('Enter first number:-')\n",
    "no2=input('Enter second number:-')\n",
    "no3=input('Enter third number:-')\n",
    "substraction=int(no1)-int(no2)-int(no3)\n",
    "print(\"The substraction {0} and {1} or {2} is :{3}\".format(no1,no2,no3,substraction))\n"
   ]
  },
  {
   "cell_type": "code",
   "execution_count": null,
   "metadata": {},
   "outputs": [],
   "source": [
    "#MULTIPLICATION OF TWO NO..."
   ]
  },
  {
   "cell_type": "code",
   "execution_count": 13,
   "metadata": {},
   "outputs": [
    {
     "name": "stdout",
     "output_type": "stream",
     "text": [
      "The multiplication 78.4 and45.6 two numbers is 124.0\n"
     ]
    }
   ],
   "source": [
    "no1=78.4\n",
    "no2=45.6\n",
    "prod=no1+no2\n",
    "print(\"The multiplication {0} and{1} two numbers is {2}\".format(no1,no2,prod))\n",
    "\n"
   ]
  },
  {
   "cell_type": "code",
   "execution_count": 15,
   "metadata": {},
   "outputs": [
    {
     "name": "stdout",
     "output_type": "stream",
     "text": [
      "Enter the first number:4\n",
      "Enter second number:3\n",
      "The sum is 12.0\n"
     ]
    }
   ],
   "source": [
    "print ('The sum is %.1f'% (float(input('Enter the first number:'))*float(input('Enter second number:'))))"
   ]
  },
  {
   "cell_type": "code",
   "execution_count": 12,
   "metadata": {},
   "outputs": [
    {
     "name": "stdout",
     "output_type": "stream",
     "text": [
      "Enter first number:-56\n",
      "Enter second number:-46\n",
      "The multiplication of two 56 and 46 is :2576\n"
     ]
    }
   ],
   "source": [
    "no1=input('Enter first number:-')\n",
    "no2=input('Enter second number:-')\n",
    "prod=int(no1)*int(no2)\n",
    "print(\"The multiplication of two {0} and {1} is :{2}\".format(no1,no2,prod))\n",
    "\n"
   ]
  },
  {
   "cell_type": "code",
   "execution_count": null,
   "metadata": {},
   "outputs": [],
   "source": [
    "#DIVISION OF TWO NO..."
   ]
  },
  {
   "cell_type": "code",
   "execution_count": 29,
   "metadata": {},
   "outputs": [
    {
     "name": "stdout",
     "output_type": "stream",
     "text": [
      "The division 78.4 and45.6 two numbers is 1.719298245614035\n"
     ]
    }
   ],
   "source": [
    "no1=78.4\n",
    "no2=45.6\n",
    "div=no1/no2\n",
    "print(\"The division {0} and{1} two numbers is {2}\".format(no1,no2,div))\n",
    "\n"
   ]
  },
  {
   "cell_type": "code",
   "execution_count": 30,
   "metadata": {},
   "outputs": [
    {
     "name": "stdout",
     "output_type": "stream",
     "text": [
      "Enter the first number:500\n",
      "Enter second number:5\n",
      "The division is 100.0\n"
     ]
    }
   ],
   "source": [
    "print ('The division is %.1f'% (float(input('Enter the first number:'))/float(input('Enter second number:'))))"
   ]
  },
  {
   "cell_type": "code",
   "execution_count": null,
   "metadata": {},
   "outputs": [],
   "source": [
    "#swap two no.."
   ]
  },
  {
   "cell_type": "code",
   "execution_count": 1,
   "metadata": {},
   "outputs": [
    {
     "name": "stdout",
     "output_type": "stream",
     "text": [
      "Enter no1:34\n",
      "Enter no2:45\n",
      "The value of no1 after swapping:45\n"
     ]
    }
   ],
   "source": [
    "no1=input('Enter no1:')\n",
    "no2=input('Enter no2:')\n",
    "temp=no1\n",
    "no1=no2\n",
    "no2=temp\n",
    "print(\"The value of no1 after swapping:{0}\".format(no1))"
   ]
  },
  {
   "cell_type": "code",
   "execution_count": 11,
   "metadata": {},
   "outputs": [
    {
     "name": "stdout",
     "output_type": "stream",
     "text": [
      "The value of no1 after swapping:45.9\n"
     ]
    }
   ],
   "source": [
    "no1=78.4\n",
    "no2=45.9\n",
    "temp=no1\n",
    "no1=no2\n",
    "no2=temp\n",
    "print(\"The value of no1 after swapping:{0}\".format(no1))\n"
   ]
  },
  {
   "cell_type": "code",
   "execution_count": null,
   "metadata": {},
   "outputs": [],
   "source": [
    "# MAXIMUM OF TWO NUMBER.."
   ]
  },
  {
   "cell_type": "code",
   "execution_count": 38,
   "metadata": {},
   "outputs": [
    {
     "name": "stdout",
     "output_type": "stream",
     "text": [
      "Maximun number is: 67\n"
     ]
    }
   ],
   "source": [
    "#max(78,39)\n",
    "print(\"Maximum number is:\",max(34,67))\n",
    "\n"
   ]
  },
  {
   "cell_type": "code",
   "execution_count": 62,
   "metadata": {},
   "outputs": [
    {
     "name": "stdout",
     "output_type": "stream",
     "text": [
      "Enter first number:67\n",
      "Enter second number:45\n"
     ]
    },
    {
     "data": {
      "text/plain": [
       "'67'"
      ]
     },
     "execution_count": 62,
     "metadata": {},
     "output_type": "execute_result"
    }
   ],
   "source": [
    "no1=input(\"Enter first number:\")\n",
    "no2=input(\"Enter second number:\")\n",
    "max(no1,no2)\n"
   ]
  },
  {
   "cell_type": "code",
   "execution_count": null,
   "metadata": {},
   "outputs": [],
   "source": [
    "# MINIMUM OF TWO NUMBER.."
   ]
  },
  {
   "cell_type": "code",
   "execution_count": 63,
   "metadata": {},
   "outputs": [
    {
     "name": "stdout",
     "output_type": "stream",
     "text": [
      "Minimum number is: 34\n"
     ]
    }
   ],
   "source": [
    "print(\"Minimum number is:\",min(34,67))"
   ]
  },
  {
   "cell_type": "code",
   "execution_count": 66,
   "metadata": {},
   "outputs": [
    {
     "name": "stdout",
     "output_type": "stream",
     "text": [
      "Enter first number:45\n",
      "Enter second number:456\n"
     ]
    },
    {
     "data": {
      "text/plain": [
       "'45'"
      ]
     },
     "execution_count": 66,
     "metadata": {},
     "output_type": "execute_result"
    }
   ],
   "source": [
    "no1=input(\"Enter first number:\")\n",
    "no2=input(\"Enter second number:\")\n",
    "min(no1,no2)\n"
   ]
  },
  {
   "cell_type": "code",
   "execution_count": 7,
   "metadata": {},
   "outputs": [
    {
     "name": "stdout",
     "output_type": "stream",
     "text": [
      "Enter first number: 67\n",
      "Enter second number: 4\n",
      "a is greater than b\n"
     ]
    }
   ],
   "source": [
    "#GREATER NUMBER....\n",
    "a = (input('Enter first number: '))\n",
    "b = (input('Enter second number: '))\n",
    "if (a>b) : \n",
    "    print('a is greater than b')\n",
    "elif (b>a) :\n",
    "    print('b is greater than a')\n",
    "else :\n",
    "    print('both equal')\n"
   ]
  },
  {
   "cell_type": "code",
   "execution_count": null,
   "metadata": {},
   "outputs": [],
   "source": [
    "#letfind pi.."
   ]
  },
  {
   "cell_type": "code",
   "execution_count": 21,
   "metadata": {},
   "outputs": [
    {
     "name": "stdout",
     "output_type": "stream",
     "text": [
      "The value of pi is: 3.141592653589793\n"
     ]
    }
   ],
   "source": [
    "\n",
    "import math\n",
    "print(\"The value of pi is:\",math.pi)\n"
   ]
  },
  {
   "cell_type": "code",
   "execution_count": null,
   "metadata": {},
   "outputs": [],
   "source": []
  },
  {
   "cell_type": "code",
   "execution_count": null,
   "metadata": {},
   "outputs": [],
   "source": []
  },
  {
   "cell_type": "code",
   "execution_count": null,
   "metadata": {},
   "outputs": [],
   "source": []
  },
  {
   "cell_type": "code",
   "execution_count": null,
   "metadata": {},
   "outputs": [],
   "source": [
    "#CALENDAR"
   ]
  },
  {
   "cell_type": "code",
   "execution_count": 79,
   "metadata": {},
   "outputs": [
    {
     "name": "stdout",
     "output_type": "stream",
     "text": [
      "   December 1998\n",
      "Mo Tu We Th Fr Sa Su\n",
      "    1  2  3  4  5  6\n",
      " 7  8  9 10 11 12 13\n",
      "14 15 16 17 18 19 20\n",
      "21 22 23 24 25 26 27\n",
      "28 29 30 31\n",
      "\n"
     ]
    }
   ],
   "source": [
    "import calendar\n",
    "yy=1998    #year\n",
    "mm=12      #month\n",
    "print(calendar.month(yy,mm))"
   ]
  },
  {
   "cell_type": "code",
   "execution_count": 84,
   "metadata": {},
   "outputs": [
    {
     "name": "stdout",
     "output_type": "stream",
     "text": [
      "Enter the year  1998\n",
      "Enter the month 11\n",
      "   November 1998\n",
      "Mo Tu We Th Fr Sa Su\n",
      "                   1\n",
      " 2  3  4  5  6  7  8\n",
      " 9 10 11 12 13 14 15\n",
      "16 17 18 19 20 21 22\n",
      "23 24 25 26 27 28 29\n",
      "30\n",
      "\n"
     ]
    }
   ],
   "source": [
    "import calendar\n",
    "yy=int(input(\"Enter the year  \"))\n",
    "mm=int(input(\"Enter the month \"))\n",
    "print(calendar.month(yy,mm))"
   ]
  },
  {
   "cell_type": "code",
   "execution_count": null,
   "metadata": {},
   "outputs": [],
   "source": []
  },
  {
   "cell_type": "code",
   "execution_count": null,
   "metadata": {},
   "outputs": [],
   "source": []
  },
  {
   "cell_type": "code",
   "execution_count": null,
   "metadata": {},
   "outputs": [],
   "source": []
  }
 ],
 "metadata": {
  "kernelspec": {
   "display_name": "Python 3",
   "language": "python",
   "name": "python3"
  },
  "language_info": {
   "codemirror_mode": {
    "name": "ipython",
    "version": 3
   },
   "file_extension": ".py",
   "mimetype": "text/x-python",
   "name": "python",
   "nbconvert_exporter": "python",
   "pygments_lexer": "ipython3",
   "version": "3.8.5"
  }
 },
 "nbformat": 4,
 "nbformat_minor": 4
}
